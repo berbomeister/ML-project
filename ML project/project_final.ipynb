{
 "cells": [
  {
   "attachments": {},
   "cell_type": "markdown",
   "metadata": {},
   "source": [
    "## Image classification on CIFAR-10 Dataset using CNN, RNN and logistic regression   \n",
    "### <div style=\"text-align: right\"> Kliment Berbatov, FN:81946 </div>"
   ]
  }
 ],
 "metadata": {
  "kernelspec": {
   "display_name": "Python 3",
   "language": "python",
   "name": "python3"
  },
  "language_info": {
   "name": "python",
   "version": "3.8.10 (tags/v3.8.10:3d8993a, May  3 2021, 11:48:03) [MSC v.1928 64 bit (AMD64)]"
  },
  "orig_nbformat": 4,
  "vscode": {
   "interpreter": {
    "hash": "3ecc5d9cd7ff5b806b007500540b2c7b35db350ad47fdea8240bfa615b3d6812"
   }
  }
 },
 "nbformat": 4,
 "nbformat_minor": 2
}
